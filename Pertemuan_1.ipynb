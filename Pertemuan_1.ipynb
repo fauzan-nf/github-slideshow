{
  "nbformat": 4,
  "nbformat_minor": 0,
  "metadata": {
    "colab": {
      "provenance": [],
      "include_colab_link": true
    },
    "kernelspec": {
      "name": "python3",
      "display_name": "Python 3"
    }
  },
  "cells": [
    {
      "cell_type": "markdown",
      "metadata": {
        "id": "view-in-github",
        "colab_type": "text"
      },
      "source": [
        "<a href=\"https://colab.research.google.com/github/fauzan-nf/github-slideshow/blob/master/Pertemuan_1.ipynb\" target=\"_parent\"><img src=\"https://colab.research.google.com/assets/colab-badge.svg\" alt=\"Open In Colab\"/></a>"
      ]
    },
    {
      "cell_type": "markdown",
      "metadata": {
        "id": "-F_7wOhaQqDh"
      },
      "source": [
        "# Pertemuan 1"
      ]
    },
    {
      "cell_type": "markdown",
      "metadata": {
        "id": "jQZ--07NNXC5"
      },
      "source": [
        "**Pada pertemuan kali ini akan dilakukan pembahasan mengenai perkenalan awal, mempelajari input/output, mempelajari variabel dan tipe data pada python, dan mempelajari operator-operator dasar pada python.**"
      ]
    },
    {
      "cell_type": "markdown",
      "metadata": {
        "id": "uJRniZKhQ1jE"
      },
      "source": [
        "### Perkenalan Awal"
      ]
    },
    {
      "cell_type": "markdown",
      "metadata": {
        "id": "WTMch1NnRBlm"
      },
      "source": [
        "Pada umumnya terdapat dua ekstensi yang sering digunakan untuk melakukan pemrograman python, yaitu `.py` dan `.ipynb`. \n",
        "\n",
        "Program `.py` adalah program yang dijalankan dalam satu kesatuan atau tidak terbagi bagi. Beberapa contoh penggunaan ekstensi `.py` adalah pada spyder, pycharm, ataupun dengan melakukan code pada text editor (seperti sublime, notepad++, dan visual code studio).\n",
        "\n",
        "Program `.ipynb` (interactive python notebook) adalah program yang dapat dijalankan secara terpisah atau dapat diartikan juga bahwa setiap *cell* pada `.ipynb` mewakili satu ekstensi `.py`. Beberapa contoh penggunaan `.ipynb` adalah pada jupyter notebook, kaggle kernel, dan google colab."
      ]
    },
    {
      "cell_type": "markdown",
      "metadata": {
        "id": "LhNldkv8Qj0V"
      },
      "source": [
        "### Hello World!"
      ]
    },
    {
      "cell_type": "markdown",
      "metadata": {
        "id": "JfD8KzXwPsDF"
      },
      "source": [
        "Pada umumnya, langkah pertama dalam mempelajari suatu bahasa pemrograman adalah dengan melakukan perintah untuk menampilkan suatu kata atau kalimat pada layar. Program sederhana tersebut biasa disebut dengan \"Hello World!\"."
      ]
    },
    {
      "cell_type": "code",
      "metadata": {
        "id": "gFnvQBdyNUOp",
        "outputId": "6180b99b-5efa-4020-91cd-a0ffd2c6035e",
        "colab": {
          "base_uri": "https://localhost:8080/",
          "height": 35
        }
      },
      "source": [
        "print(\"Hello World!\")"
      ],
      "execution_count": null,
      "outputs": [
        {
          "output_type": "stream",
          "text": [
            "Hello World!\n"
          ],
          "name": "stdout"
        }
      ]
    },
    {
      "cell_type": "markdown",
      "metadata": {
        "id": "ulCBPo_Fg2my"
      },
      "source": [
        "### Komentar"
      ]
    },
    {
      "cell_type": "markdown",
      "metadata": {
        "id": "7UrcoOFfg5vJ"
      },
      "source": [
        "Komentar adalah suatu catatan yang digunakan untuk penjelasan suatu baris *code*. Komentar adalah suatu hal yang sangat dibutuhkan. hal ini dibutuhkan karena pada proses pembuatan program secara berkelompok (program yang membutuhkan banyak *programmer*/*coder*) tidak semua *programmer* dapat mengartikan setiap baris *code* yang dilakukan oleh *programmer* lainnya.\n",
        "\n",
        "**Komentar yang ditulis pada sebuah 'code', tidak akan terbaca saat menjalankan program.** "
      ]
    },
    {
      "cell_type": "code",
      "metadata": {
        "id": "pYEUlGfbhzE7"
      },
      "source": [
        "#Ini komentar untuk satu baris saja\n",
        "#Jadi makenya gabisa untuk banyak baris"
      ],
      "execution_count": null,
      "outputs": []
    },
    {
      "cell_type": "code",
      "metadata": {
        "id": "_2HBiXyxh36V",
        "outputId": "78ed0497-56ab-45dc-efa6-d8e655acde95",
        "colab": {
          "base_uri": "https://localhost:8080/",
          "height": 35
        }
      },
      "source": [
        "'''\n",
        "Ini komentar untuk \n",
        "banyak baris\n",
        "'''"
      ],
      "execution_count": null,
      "outputs": [
        {
          "output_type": "execute_result",
          "data": {
            "text/plain": [
              "'\\nIni komentar untuk \\nbanyak baris\\n'"
            ]
          },
          "metadata": {
            "tags": []
          },
          "execution_count": 36
        }
      ]
    },
    {
      "cell_type": "code",
      "metadata": {
        "id": "WhTVIQa1iA2O",
        "outputId": "a32fb2d8-82ca-4081-ef4a-e2b0b9ff9a4d",
        "colab": {
          "base_uri": "https://localhost:8080/",
          "height": 35
        }
      },
      "source": [
        "\"\"\"\n",
        "Ini juga\n",
        "komentar untuk\n",
        "banyak baris\n",
        "\"\"\""
      ],
      "execution_count": null,
      "outputs": [
        {
          "output_type": "execute_result",
          "data": {
            "text/plain": [
              "'\\nIni juga\\nkomentar untuk\\nbanyak baris\\n'"
            ]
          },
          "metadata": {
            "tags": []
          },
          "execution_count": 37
        }
      ]
    },
    {
      "cell_type": "markdown",
      "metadata": {
        "id": "qTgmrQSNVISP"
      },
      "source": [
        "### Variabel"
      ]
    },
    {
      "cell_type": "markdown",
      "metadata": {
        "id": "lhF1ThuhVMQ8"
      },
      "source": [
        "Variabel berfungsi sebagai penampung suatu nilai. Kenapa kita membutuhkan variabel? Karena pada proses pengolahan data kita membutuhkan operasi yang bertahap, maka kita harus melakukan penampungan nilai tersebut pada suatu variabel. \n",
        "\n",
        "**Penamaan variabel pada python memiliki beberapa ketentuan sebagai berikut :**\n",
        "\n",
        "1.   Nama variabel boleh diawali menggunakan huruf atau garis bawah (_), contoh: nama, _nama, namaKu, nama_variabel.\n",
        "2.   Karakter selanjutnya dapat berupa huruf, garis bawah (_) atau angka, contoh: __nama, n2, nilai1.\n",
        "3.   Karakter pada nama variabel bersifat sensitif (case-sensitif). Artinya huruf besar dan kecil dibedakan. Misalnya, variabel_Ku dan variabel_ku, keduanya adalah variabel yang berbeda.\n",
        "4.   Nama variabel tidak boleh menggunakan kata kunci yang sudah ada dalam python seperti if, while, for, dsb.\n",
        "\n",
        "\n",
        "Sumber : https://www.petanikode.com/python-variabel-dan-tipe-data/\n"
      ]
    },
    {
      "cell_type": "code",
      "metadata": {
        "id": "4MLB4u0DQJBO",
        "outputId": "137e3f14-9729-4b74-c5f4-661aa5af461c",
        "colab": {
          "base_uri": "https://localhost:8080/",
          "height": 35
        }
      },
      "source": [
        "angkaDua = 2\n",
        "print(angkaDua)"
      ],
      "execution_count": null,
      "outputs": [
        {
          "output_type": "stream",
          "text": [
            "2\n"
          ],
          "name": "stdout"
        }
      ]
    },
    {
      "cell_type": "code",
      "metadata": {
        "id": "vbynRcyacQ6K",
        "outputId": "f105d846-fc12-49ca-f326-bc10240a3d24",
        "colab": {
          "base_uri": "https://localhost:8080/",
          "height": 35
        }
      },
      "source": [
        "suatuKalimat = \"Budi bermain bola\"\n",
        "print(suatuKalimat)"
      ],
      "execution_count": null,
      "outputs": [
        {
          "output_type": "stream",
          "text": [
            "Budi bermain bola\n"
          ],
          "name": "stdout"
        }
      ]
    },
    {
      "cell_type": "markdown",
      "metadata": {
        "id": "lgMros3zdXdp"
      },
      "source": [
        "Kita juga dapat melakukan penampungan nilai secara bersamaan terhadap banyak variabel, **contoh :**"
      ]
    },
    {
      "cell_type": "code",
      "metadata": {
        "id": "Vvc1Cdviczwi",
        "outputId": "4dacb839-be95-4b18-f030-904d8bd6bd4a",
        "colab": {
          "base_uri": "https://localhost:8080/",
          "height": 69
        }
      },
      "source": [
        "a, b, c = 1, 2, 3\n",
        "print(a)\n",
        "print(b)\n",
        "print(c)"
      ],
      "execution_count": null,
      "outputs": [
        {
          "output_type": "stream",
          "text": [
            "1\n",
            "2\n",
            "3\n"
          ],
          "name": "stdout"
        }
      ]
    },
    {
      "cell_type": "code",
      "metadata": {
        "id": "zf4JgYhhd7nl",
        "outputId": "eb758e71-0193-46a9-cfd1-027ca719b57c",
        "colab": {
          "base_uri": "https://localhost:8080/",
          "height": 69
        }
      },
      "source": [
        "a = b = c = 10\n",
        "print(a)\n",
        "print(b)\n",
        "print(c)"
      ],
      "execution_count": null,
      "outputs": [
        {
          "output_type": "stream",
          "text": [
            "10\n",
            "10\n",
            "10\n"
          ],
          "name": "stdout"
        }
      ]
    },
    {
      "cell_type": "markdown",
      "metadata": {
        "id": "s3wxapmxQqBx"
      },
      "source": [
        "Membuat *output* dari suatu variabel"
      ]
    },
    {
      "cell_type": "code",
      "metadata": {
        "id": "Xq_xthtLQ_21",
        "outputId": "37d33a65-ee9c-4c06-ac72-4990850a0861",
        "colab": {
          "base_uri": "https://localhost:8080/",
          "height": 87
        }
      },
      "source": [
        "nama = \"Budi\"\n",
        "# Catatan = Penggabungan dua variabel dengan operator '+' hanya dapat dilakukan pada tipe data yang sama (akan dibahas pada bab operasi dasar)\n",
        "kalimat = \"Nama saya \"+nama\n",
        "print(kalimat)\n",
        "print(\"Nama saya \" + nama)\n",
        "print(f'Nama saya {nama}')\n",
        "print(\"Nama saya \", nama)"
      ],
      "execution_count": null,
      "outputs": [
        {
          "output_type": "stream",
          "text": [
            "Nama saya Budi\n",
            "Nama saya Budi\n",
            "Nama saya Budi\n",
            "Nama saya  Budi\n"
          ],
          "name": "stdout"
        }
      ]
    },
    {
      "cell_type": "markdown",
      "metadata": {
        "id": "ETJQu2F0e9fF"
      },
      "source": [
        "Apabila kita ingin mengganti suatu nilai variabel, kita hanya perlu memasukan ulang suatu nilai ke dalam variabel tersebut, **contoh :**"
      ]
    },
    {
      "cell_type": "code",
      "metadata": {
        "id": "vEdnFQPeeFOe",
        "outputId": "29358044-2023-4529-ed24-7fa706454e22",
        "colab": {
          "base_uri": "https://localhost:8080/",
          "height": 52
        }
      },
      "source": [
        "kata = \"Hai\"\n",
        "print(a)\n",
        "kata = \"Hello\"\n",
        "print(a)"
      ],
      "execution_count": null,
      "outputs": [
        {
          "output_type": "stream",
          "text": [
            "10\n",
            "10\n"
          ],
          "name": "stdout"
        }
      ]
    },
    {
      "cell_type": "markdown",
      "metadata": {
        "id": "50CigDTbfps2"
      },
      "source": [
        "Apabila kita sudah tidak membutuhkan suatu variabel, maka kita dapat menghapusnya dengan perintah `del()`, **contoh :**"
      ]
    },
    {
      "cell_type": "code",
      "metadata": {
        "id": "ZYcaZ69KfSTi",
        "outputId": "11165800-1b90-4b4b-b3fe-1a00fbd06b2a",
        "colab": {
          "base_uri": "https://localhost:8080/",
          "height": 201
        }
      },
      "source": [
        "angkaSatu = 1\n",
        "del(angkaSatu)\n",
        "#Akan menampilkan Error karena variabel angkaSatu telah dihapus, sehingga variabel angkaSatu menjadi tidak terdefinisi\n",
        "print(angkaSatu)"
      ],
      "execution_count": null,
      "outputs": [
        {
          "output_type": "error",
          "ename": "NameError",
          "evalue": "ignored",
          "traceback": [
            "\u001b[0;31m---------------------------------------------------------------------------\u001b[0m",
            "\u001b[0;31mNameError\u001b[0m                                 Traceback (most recent call last)",
            "\u001b[0;32m<ipython-input-44-66aebf1a60be>\u001b[0m in \u001b[0;36m<module>\u001b[0;34m()\u001b[0m\n\u001b[1;32m      2\u001b[0m \u001b[0;32mdel\u001b[0m\u001b[0;34m(\u001b[0m\u001b[0mangkaSatu\u001b[0m\u001b[0;34m)\u001b[0m\u001b[0;34m\u001b[0m\u001b[0;34m\u001b[0m\u001b[0m\n\u001b[1;32m      3\u001b[0m \u001b[0;31m#Akan menampilkan Error karena variabel angkaSatu telah dihapus, sehingga variabel angkaSatu menjadi tidak terdefinisi\u001b[0m\u001b[0;34m\u001b[0m\u001b[0;34m\u001b[0m\u001b[0;34m\u001b[0m\u001b[0m\n\u001b[0;32m----> 4\u001b[0;31m \u001b[0mprint\u001b[0m\u001b[0;34m(\u001b[0m\u001b[0mangkaSatu\u001b[0m\u001b[0;34m)\u001b[0m\u001b[0;34m\u001b[0m\u001b[0;34m\u001b[0m\u001b[0m\n\u001b[0m",
            "\u001b[0;31mNameError\u001b[0m: name 'angkaSatu' is not defined"
          ]
        }
      ]
    },
    {
      "cell_type": "markdown",
      "metadata": {
        "id": "nsHf3uK2gPba"
      },
      "source": [
        "Kita juga dapat membuat salinan nilai dari suatu variabel dengan menggunakan perintah `.copy()`. Melakukan pengambilan nilai dengan cara penyalinan adalah sesuatu yang penting, supaya tidak merubah nilai dari variabel yang kita salin, **contoh :**"
      ]
    },
    {
      "cell_type": "code",
      "metadata": {
        "id": "qxSGdrqZfnGw",
        "outputId": "c7217940-24dc-427f-e5f1-be0b92b9f144",
        "colab": {
          "base_uri": "https://localhost:8080/",
          "height": 52
        }
      },
      "source": [
        "#ini pengambilan nilai variabel a tanpa melakukan penyalinan\n",
        "a = [1,2]\n",
        "b = a\n",
        "#fungsi append digunakan untuk menambahkan anggota list (Akan dibahas pada pertemuan dengan materi list)\n",
        "b.append(3)\n",
        "print(a)\n",
        "print(b)"
      ],
      "execution_count": null,
      "outputs": [
        {
          "output_type": "stream",
          "text": [
            "[1, 2, 3]\n",
            "[1, 2, 3]\n"
          ],
          "name": "stdout"
        }
      ]
    },
    {
      "cell_type": "code",
      "metadata": {
        "id": "Mh0D4I9GjuEQ",
        "outputId": "766c32d0-89ed-4fe0-df94-145d08e97c7c",
        "colab": {
          "base_uri": "https://localhost:8080/",
          "height": 52
        }
      },
      "source": [
        "#ini pengambilan nilai variabel a dengan melakukan penyalinan\n",
        "a = [1,2]\n",
        "b = a.copy()\n",
        "#fungsi append digunakan untuk menambahkan anggota list (Akan dibahas pada pertemuan dengan materi list)\n",
        "b.append(3)\n",
        "print(a)\n",
        "print(b)"
      ],
      "execution_count": null,
      "outputs": [
        {
          "output_type": "stream",
          "text": [
            "[1, 2]\n",
            "[1, 2, 3]\n"
          ],
          "name": "stdout"
        }
      ]
    },
    {
      "cell_type": "markdown",
      "metadata": {
        "id": "WK4vs2COPtru"
      },
      "source": [
        "## Tipe Data"
      ]
    },
    {
      "cell_type": "markdown",
      "metadata": {
        "id": "VdzQ_HyzPwkR"
      },
      "source": [
        "Tipe data adalah hal yang sangat penting untuk dipelajari pada dunia pemrograman. Python menyediakan beberapa tipe data yang secara *default* telah tersedia, **yaitu :**\n",
        "\n",
        "1. Text Type:\t`str`\n",
        "2. Numeric Types:\t`int`, `float`, `complex`\n",
        "3. Sequence Types:\t`list`, `tuple`, `range`\n",
        "4. Mapping Type:\t`dict`\n",
        "5. Set Types:\t`set`, `frozenset`\n",
        "6. Boolean Type:\t`bool`\n",
        "7. Binary Types:\t`bytes`, `bytearray`, `memoryview`\n",
        "\n",
        "Sumber : https://www.w3schools.com/python/python_datatypes.asp"
      ]
    },
    {
      "cell_type": "markdown",
      "metadata": {
        "id": "QU7aOrpbUPWU"
      },
      "source": [
        "Untuk mengetahui tipe data dari suatu variabel, kita dapat menggunakan perintah `type()`, **contoh :**"
      ]
    },
    {
      "cell_type": "code",
      "metadata": {
        "id": "A3dJFH-ymYhG",
        "outputId": "f965d2e3-e722-4a58-84ee-383c2bea3292",
        "colab": {
          "base_uri": "https://localhost:8080/",
          "height": 35
        }
      },
      "source": [
        "bulat = 1\n",
        "print(type(bulat))"
      ],
      "execution_count": null,
      "outputs": [
        {
          "output_type": "stream",
          "text": [
            "<class 'int'>\n"
          ],
          "name": "stdout"
        }
      ]
    },
    {
      "cell_type": "code",
      "metadata": {
        "id": "tgXNcfdhUtu5",
        "outputId": "0ec53be2-219c-4f04-c93f-2ef222b86682",
        "colab": {
          "base_uri": "https://localhost:8080/",
          "height": 35
        }
      },
      "source": [
        "desimal = 1.\n",
        "print(type(desimal))"
      ],
      "execution_count": null,
      "outputs": [
        {
          "output_type": "stream",
          "text": [
            "<class 'float'>\n"
          ],
          "name": "stdout"
        }
      ]
    },
    {
      "cell_type": "code",
      "metadata": {
        "id": "hDpf1uexU2ia",
        "outputId": "57a3772e-350c-4e46-e00c-e8711a9458d9",
        "colab": {
          "base_uri": "https://localhost:8080/",
          "height": 260
        }
      },
      "source": [
        "x = \"Hello World\"\n",
        "print(f'{x} adalah {type(x)}')\t\n",
        "x = 20\n",
        "print(f'{x} adalah {type(x)}')\t\n",
        "x = 20.5\t\n",
        "print(f'{x} adalah {type(x)}')\n",
        "x = 1j\n",
        "print(f'{x} adalah {type(x)}')\n",
        "x = [\"apple\", \"banana\", \"cherry\"]\n",
        "print(f'{x} adalah {type(x)}')\t\n",
        "x = (\"apple\", \"banana\", \"cherry\")\n",
        "print(f'{x} adalah {type(x)}')\t\n",
        "x = range(6)\n",
        "print(f'{x} adalah {type(x)}')\n",
        "x = {\"name\" : \"John\", \"age\" : 36}\n",
        "print(f'{x} adalah {type(x)}')\t\n",
        "x = {\"apple\", \"banana\", \"cherry\"}\n",
        "print(f'{x} adalah {type(x)}')\n",
        "x = frozenset({\"apple\", \"banana\", \"cherry\"})\n",
        "print(f'{x} adalah {type(x)}')\n",
        "x = True\t\n",
        "print(f'{x} adalah {type(x)}')\n",
        "x = b\"Hello\"\t\n",
        "print(f'{x} adalah {type(x)}')\n",
        "x = bytearray(5)\n",
        "print(f'{x} adalah {type(x)}')\n",
        "x = memoryview(bytes(5))\n",
        "print(f'{x} adalah {type(x)}')"
      ],
      "execution_count": null,
      "outputs": [
        {
          "output_type": "stream",
          "text": [
            "Hello World adalah <class 'str'>\n",
            "20 adalah <class 'int'>\n",
            "20.5 adalah <class 'float'>\n",
            "1j adalah <class 'complex'>\n",
            "['apple', 'banana', 'cherry'] adalah <class 'list'>\n",
            "('apple', 'banana', 'cherry') adalah <class 'tuple'>\n",
            "range(0, 6) adalah <class 'range'>\n",
            "{'name': 'John', 'age': 36} adalah <class 'dict'>\n",
            "{'apple', 'banana', 'cherry'} adalah <class 'set'>\n",
            "frozenset({'apple', 'banana', 'cherry'}) adalah <class 'frozenset'>\n",
            "True adalah <class 'bool'>\n",
            "b'Hello' adalah <class 'bytes'>\n",
            "bytearray(b'\\x00\\x00\\x00\\x00\\x00') adalah <class 'bytearray'>\n",
            "<memory at 0x7fcfd46ec048> adalah <class 'memoryview'>\n"
          ],
          "name": "stdout"
        }
      ]
    },
    {
      "cell_type": "markdown",
      "metadata": {
        "id": "ONtvomfWWBeN"
      },
      "source": [
        "Selain mengetahui tipe data suatu variabel, kita juga dapat melakukan konversi terhadap tipe data dari suatu variabel dengan perintah `tipe_data_yang_diinginkan(variabel_yang_dikonversi)`, **contoh :**"
      ]
    },
    {
      "cell_type": "code",
      "metadata": {
        "id": "fPzIeZQPWvqW",
        "outputId": "339fadeb-1d04-4910-8ea9-dde39493b972",
        "colab": {
          "base_uri": "https://localhost:8080/",
          "height": 52
        }
      },
      "source": [
        "bulat = 2\n",
        "print(type(bulat))\n",
        "bulat = float(bulat) #konversi bilangan bulat menjadi bilangan real\n",
        "print(type(bulat))"
      ],
      "execution_count": null,
      "outputs": [
        {
          "output_type": "stream",
          "text": [
            "<class 'int'>\n",
            "<class 'float'>\n"
          ],
          "name": "stdout"
        }
      ]
    },
    {
      "cell_type": "code",
      "metadata": {
        "id": "Sggj21mPVRoS",
        "outputId": "a62bc6e0-b37f-47a1-b2f0-07fdcad973f1",
        "colab": {
          "base_uri": "https://localhost:8080/",
          "height": 260
        }
      },
      "source": [
        "#contoh lengkap konversi tipe data\n",
        "x = str(\"Hello World\")\n",
        "print(f'{x} adalah {type(x)}')\n",
        "x = int(20)\t\n",
        "print(f'{x} adalah {type(x)}')\n",
        "x = float(20.5)\t\n",
        "print(f'{x} adalah {type(x)}')\n",
        "x = complex(1j)\n",
        "print(f'{x} adalah {type(x)}')\n",
        "x = list((\"apple\", \"banana\", \"cherry\"))\n",
        "print(f'{x} adalah {type(x)}')\t\n",
        "x = tuple((\"apple\", \"banana\", \"cherry\"))\n",
        "print(f'{x} adalah {type(x)}')\n",
        "x = range(6)\n",
        "print(f'{x} adalah {type(x)}')\n",
        "x = dict(name=\"John\", age=36)\n",
        "print(f'{x} adalah {type(x)}')\n",
        "x = set((\"apple\", \"banana\", \"cherry\"))\n",
        "print(f'{x} adalah {type(x)}')\n",
        "x = frozenset((\"apple\", \"banana\", \"cherry\"))\n",
        "print(f'{x} adalah {type(x)}')\t\n",
        "x = bool(5)\n",
        "print(f'{x} adalah {type(x)}')\n",
        "x = bytes(5)\t\n",
        "print(f'{x} adalah {type(x)}')\n",
        "x = bytearray(5)\t\n",
        "print(f'{x} adalah {type(x)}')\n",
        "x = memoryview(bytes(5))\n",
        "print(f'{x} adalah {type(x)}')\n"
      ],
      "execution_count": null,
      "outputs": [
        {
          "output_type": "stream",
          "text": [
            "Hello World adalah <class 'str'>\n",
            "20 adalah <class 'int'>\n",
            "20.5 adalah <class 'float'>\n",
            "1j adalah <class 'complex'>\n",
            "['apple', 'banana', 'cherry'] adalah <class 'list'>\n",
            "('apple', 'banana', 'cherry') adalah <class 'tuple'>\n",
            "range(0, 6) adalah <class 'range'>\n",
            "{'name': 'John', 'age': 36} adalah <class 'dict'>\n",
            "{'apple', 'banana', 'cherry'} adalah <class 'set'>\n",
            "frozenset({'apple', 'banana', 'cherry'}) adalah <class 'frozenset'>\n",
            "True adalah <class 'bool'>\n",
            "b'\\x00\\x00\\x00\\x00\\x00' adalah <class 'bytes'>\n",
            "bytearray(b'\\x00\\x00\\x00\\x00\\x00') adalah <class 'bytearray'>\n",
            "<memory at 0x7fcfd46ec048> adalah <class 'memoryview'>\n"
          ],
          "name": "stdout"
        }
      ]
    },
    {
      "cell_type": "markdown",
      "metadata": {
        "id": "F2Tpdk_x-XJq"
      },
      "source": [
        "### Operasi Dasar"
      ]
    },
    {
      "cell_type": "markdown",
      "metadata": {
        "id": "MJiN2olt-dA0"
      },
      "source": [
        "#### Operator Aritmatika"
      ]
    },
    {
      "cell_type": "markdown",
      "metadata": {
        "id": "iXM9aoQ7BVJg"
      },
      "source": [
        "Operator ini meliputi :\n",
        "1. Penjumlahan (`+`)\n",
        "2. Pengurangan (`-`)\n",
        "3. Perkalian (`*`)\n",
        "4. Pembagian (`/`)\n",
        "5. Modulus/Sisa Pembagian (`%`)\n",
        "6. Eksponen/Perpangkatan (`**`)\n",
        "7. Pembagian dengan Pembulatan ke Bawah/*Floor Division* (`//`)"
      ]
    },
    {
      "cell_type": "code",
      "metadata": {
        "id": "_fyK5DEEX8-Z",
        "colab": {
          "base_uri": "https://localhost:8080/",
          "height": 139
        },
        "outputId": "3ca65ab7-6873-4d32-9a7d-52fddf90e019"
      },
      "source": [
        "x = 5\n",
        "y = 2\n",
        "print(f'{x} + {y} = {x+y}')\n",
        "print(f'{x} - {y} = {x-y}')\n",
        "print(f'{x} * {y} = {x*y}')\n",
        "print(f'{x} / {y} = {x/y}')\n",
        "print(f'{x} % {y} = {x%y}')\n",
        "print(f'{x} ** {y} = {x**y}')\n",
        "print(f'{x} // {y} = {x//y}')"
      ],
      "execution_count": null,
      "outputs": [
        {
          "output_type": "stream",
          "text": [
            "5 + 2 = 7\n",
            "5 - 2 = 3\n",
            "5 * 2 = 10\n",
            "5 / 2 = 2.5\n",
            "5 % 2 = 1\n",
            "5 ** 2 = 25\n",
            "5 // 2 = 2\n"
          ],
          "name": "stdout"
        }
      ]
    },
    {
      "cell_type": "markdown",
      "metadata": {
        "id": "EtNltTosP_vS"
      },
      "source": [
        "#### Operator untuk menampung nilai pada variabel (*Assignment Operator*)"
      ]
    },
    {
      "cell_type": "markdown",
      "metadata": {
        "id": "VXjlyGk7QJCm"
      },
      "source": [
        "Operator ini digunakan untuk memasukkan sebuah nilai kedalam sebuah variabel cara menggunakannya adalah dengan menuliskan **x {jenis_operator}= y** "
      ]
    },
    {
      "cell_type": "code",
      "metadata": {
        "id": "xbeAaNQiPoZL",
        "colab": {
          "base_uri": "https://localhost:8080/",
          "height": 225
        },
        "outputId": "934e3533-4236-4d4e-d650-6356c2bf8766"
      },
      "source": [
        "x = 5\t\n",
        "x += 3\n",
        "print(f'x + 3 = {x}')\n",
        "x = 5\n",
        "x -= 3\n",
        "print(f'x - 3 = {x}')\n",
        "x = 5\t\n",
        "x *= 3\n",
        "print(f'x * 3 = {x}')\n",
        "x = 5\t\n",
        "x /= 3\n",
        "print(f'x / 3 = {x}')\n",
        "x = 5\t\n",
        "x %= 3\n",
        "print(f'x % 3 = {x}')\n",
        "x = 5\t\n",
        "x //= 3\n",
        "print(f'x // 3 = {x}')\n",
        "x = 5\t\n",
        "x **= 3\n",
        "print(f'x ** 3 = {x}')\n",
        "x = 5\t\n",
        "x &= 3\n",
        "print(f'x & 3 = {x}')\n",
        "x = 5\t\n",
        "x |= 3\n",
        "print(f'x | 3 = {x}')\n",
        "x = 5\t\n",
        "x ^= 3\n",
        "print(f'x ^ 3 = {x}')\n",
        "x = 5\t\n",
        "x >>= 3\n",
        "print(f'x >> 3 = {x}')\n",
        "x = 5\t\n",
        "x <<= 3\n",
        "print(f'x << 3 = {x}')"
      ],
      "execution_count": null,
      "outputs": [
        {
          "output_type": "stream",
          "text": [
            "x + 3 = 8\n",
            "x - 3 = 2\n",
            "x * 3 = 15\n",
            "x / 3 = 1.6666666666666667\n",
            "x % 3 = 2\n",
            "x // 3 = 1\n",
            "x ** 3 = 125\n",
            "x & 3 = 1\n",
            "x | 3 = 7\n",
            "x ^ 3 = 6\n",
            "x >> 3 = 0\n",
            "x << 3 = 40\n"
          ],
          "name": "stdout"
        }
      ]
    },
    {
      "cell_type": "markdown",
      "metadata": {
        "id": "14Xx4OVsSf3f"
      },
      "source": [
        "#### Operator Pembanding"
      ]
    },
    {
      "cell_type": "markdown",
      "metadata": {
        "id": "wjX4PpABSmhC"
      },
      "source": [
        "Operator ini digunakan untuk melakukan perbandingan antar dua variabel\n",
        "1. Equal\t(`==`)\t\n",
        "2. Not equal (`!=`)\t\t\n",
        "3. Greater than (`>`)\t\t\n",
        "4. Less than (`<`)\t\n",
        "5. Greater than or equal to (`>=`)\t\t\n",
        "6. Less than or equal to x (`<=`)\t"
      ]
    },
    {
      "cell_type": "code",
      "metadata": {
        "id": "a_RS7sxZSGaY",
        "colab": {
          "base_uri": "https://localhost:8080/",
          "height": 156
        },
        "outputId": "c65e9f6f-dc42-415d-fd11-b09ec01eb90a"
      },
      "source": [
        "x = 5\n",
        "y = 5\n",
        "print(f'x bernilai {x}\\ny bernilai {y}')\n",
        "print(f'x sama dengan y : {x == y}')\t\n",
        "print(f'x tidak sama dengan y : {x != y}')\t\n",
        "print(f'x lebih besar dari y : {x > y}')\t\n",
        "print(f'x lebih kecil dari y : {x < y}')\t\n",
        "print(f'x lebih besar sama dengan y : {x >= y}')\t\n",
        "print(f'x lebih kecil sama dengan y : {x <= y}')"
      ],
      "execution_count": null,
      "outputs": [
        {
          "output_type": "stream",
          "text": [
            "x bernilai 5\n",
            "y bernilai 5\n",
            "x sama dengan y : True\n",
            "x tidak sama dengan y : False\n",
            "x lebih besar dari y : False\n",
            "x lebih kecil dari y : False\n",
            "x lebih besar sama dengan y : True\n",
            "x lebih kecil sama dengan y : True\n"
          ],
          "name": "stdout"
        }
      ]
    },
    {
      "cell_type": "markdown",
      "metadata": {
        "id": "wAvd2K65Yvaj"
      },
      "source": [
        "#### Operator Logika"
      ]
    },
    {
      "cell_type": "markdown",
      "metadata": {
        "id": "BgX18nFzY8KF"
      },
      "source": [
        "Operator logika digunakan untuk mengkombinasikan pernyataan kondisional seperti **True** atau **False**"
      ]
    },
    {
      "cell_type": "code",
      "metadata": {
        "id": "14nmEMMFWIHs",
        "colab": {
          "base_uri": "https://localhost:8080/",
          "height": 69
        },
        "outputId": "f5edd3ff-3bbb-4cbf-a145-fad8166798cc"
      },
      "source": [
        "a = True\n",
        "b = False\n",
        "#Kondisi and akan bernilai True apabila kedua variabel bernilai True\n",
        "print(a and b)\n",
        "#Kondisi or akan bernilai False ketika kedua variabel bernilai False\n",
        "print(a or b)\n",
        "#Operator not digunakan untuk mendapatkan negasi atau kebalikan dari kondisi yang seharusnya\n",
        "print(not a)"
      ],
      "execution_count": null,
      "outputs": [
        {
          "output_type": "stream",
          "text": [
            "False\n",
            "True\n",
            "False\n"
          ],
          "name": "stdout"
        }
      ]
    },
    {
      "cell_type": "markdown",
      "metadata": {
        "id": "W-FFV0vBaS3l"
      },
      "source": [
        "#### Operator Identitas"
      ]
    },
    {
      "cell_type": "markdown",
      "metadata": {
        "id": "NhJG0HtGaWrY"
      },
      "source": [
        "Operator Identitas digunakan untuk mengetahui bahwa kedua variabel berasal dari objek yang sama. Jadi kondisi hasil dipengaruhi oleh sama atau tidaknya objek dari variabel tersebut. Objek yang sama akan memiliki alamat memori yang sama.\n",
        "\n",
        "Untuk penggambaran agar mudah dicerna. Misalkan terdapat dua anak bernama Andi dan Budi, kedua anak tersebut memiliki bola yang sama persis. Pada kasus ini, apabila kita tulis dengan operator `bolaAndi==bolaBudi` maka akan menghasilkan nilai **True**. Namun apabila kita menggunakan operator `bolaAndi is bolaBudi`, maka akan menghasilkan nilai **False**."
      ]
    },
    {
      "cell_type": "code",
      "metadata": {
        "id": "xc1Onq_SaGCP",
        "colab": {
          "base_uri": "https://localhost:8080/",
          "height": 87
        },
        "outputId": "18e41c79-d544-4c94-afc1-c770b99523a7"
      },
      "source": [
        "a = [\"apple\", \"banana\"]\n",
        "b = [\"apple\", \"banana\"]\n",
        "c = a\n",
        "print(a == b)\n",
        "print(a is b)\n",
        "print(a == c)\n",
        "print(a is c)"
      ],
      "execution_count": null,
      "outputs": [
        {
          "output_type": "stream",
          "text": [
            "True\n",
            "False\n",
            "True\n",
            "True\n"
          ],
          "name": "stdout"
        }
      ]
    },
    {
      "cell_type": "markdown",
      "metadata": {
        "id": "IaTN3wR8cnSs"
      },
      "source": [
        "#### Operator Keanggotaan"
      ]
    },
    {
      "cell_type": "markdown",
      "metadata": {
        "id": "rVTbTtZ8crJ_"
      },
      "source": [
        "Operator keanggotaan adalah operator yang digunakan untuk melakukan pemeriksaan terhadap keanggotan suatu variabel. Contoh kasus agar mudah dimengerti adalah 'Apakah gajah termasuk hewan?'. Pertanyaan tersebut dapat dijawab dengan *code* `gajah in hewan`. Apabila gajah adalah hewan, maka *code* tersebut akan menghasilkan nilai **True**."
      ]
    },
    {
      "cell_type": "code",
      "metadata": {
        "id": "evo9cqN2cLg2",
        "colab": {
          "base_uri": "https://localhost:8080/",
          "height": 52
        },
        "outputId": "7c6d2169-23ce-41dd-c02b-dffcab1a90ba"
      },
      "source": [
        "hewan = ['gajah','kambing','singa']\n",
        "variabel = 'gajah'\n",
        "print(variabel in hewan)\n",
        "print(variabel not in hewan)"
      ],
      "execution_count": null,
      "outputs": [
        {
          "output_type": "stream",
          "text": [
            "True\n",
            "False\n"
          ],
          "name": "stdout"
        }
      ]
    },
    {
      "cell_type": "markdown",
      "metadata": {
        "id": "nPMBZiCOeDRz"
      },
      "source": [
        "#### Operator Bitwise"
      ]
    },
    {
      "cell_type": "markdown",
      "metadata": {
        "id": "0SwVCzX6eMvs"
      },
      "source": [
        "Operator bitwise digunakan untuk melakukan komparasi bilangan biner :\n",
        "1. AND (`&`)\t\n",
        "2. OR (`|`)\n",
        "3. XOR (`^`)\n",
        "4. NOT (`~`)\n",
        "5. Zero fill left shift (`<<`)\n",
        "6. Signed right shift (`>>`)"
      ]
    },
    {
      "cell_type": "markdown",
      "metadata": {
        "id": "xpqypd7yhK_o"
      },
      "source": [
        "### Masukkan user (Input)"
      ]
    },
    {
      "cell_type": "markdown",
      "metadata": {
        "id": "rQ7Yg5OhhQyT"
      },
      "source": [
        "Kita telah mengetahui cara mendefinisikan suatu variabel (mengisi nilai variabel). Namun, bagaimana jika pengguna dari program yang kita buat menginginkan untuk dapat memasukkan nilai ke suatu variabel tanpa harus merubah *code* dari program tersebut? Untuk itulah kita membutuhkan `input()`."
      ]
    },
    {
      "cell_type": "code",
      "metadata": {
        "id": "lKl2D2yfd1ar",
        "colab": {
          "base_uri": "https://localhost:8080/",
          "height": 52
        },
        "outputId": "f6bb40a9-32d2-4b5a-c1b4-faed1539934b"
      },
      "source": [
        "nama = input('Masukkan nama : ')\n",
        "print(f'Hai, {nama}')"
      ],
      "execution_count": null,
      "outputs": [
        {
          "output_type": "stream",
          "text": [
            "Masukkan nama : Muhammad Hasbi Ashshiddieqy\n",
            "Hai, Muhammad Hasbi Ashshiddieqy\n"
          ],
          "name": "stdout"
        }
      ]
    },
    {
      "cell_type": "markdown",
      "metadata": {
        "id": "dXO7Ff6kir7t"
      },
      "source": [
        "Hal yang perlu diingat dan dijadikan sebagai catatan adalah setiap inputan yang kita masukkan akan memiliki tipe data berupa `string` atau kita kenal dengan `str`. Jadi apabila kita ingin melakukan operasi matematika dengan *input*, kita harus melakukan konversi pada tipe data dari `input` tersebut."
      ]
    },
    {
      "cell_type": "code",
      "metadata": {
        "id": "pbXG7oLNijh6",
        "colab": {
          "base_uri": "https://localhost:8080/",
          "height": 69
        },
        "outputId": "75ec567a-0d2c-42a5-bde5-cf60debff847"
      },
      "source": [
        "#Program penjumlahan bilangan bulat (integer) x dan y (cara pertama)\n",
        "x = input('Masukkan nilai x : ')\n",
        "x = int(x)\n",
        "y = input('Masukkan nilai y : ')\n",
        "y = int(y)\n",
        "print(f'{x} + {y} = {x+y}')"
      ],
      "execution_count": null,
      "outputs": [
        {
          "output_type": "stream",
          "text": [
            "Masukkan nilai x : 2\n",
            "Masukkan nilai y : 3\n",
            "2 + 3 = 5\n"
          ],
          "name": "stdout"
        }
      ]
    },
    {
      "cell_type": "code",
      "metadata": {
        "id": "a-bk8LrDjoTL",
        "colab": {
          "base_uri": "https://localhost:8080/",
          "height": 69
        },
        "outputId": "e151ed47-23c6-43d9-a770-726be2a56e72"
      },
      "source": [
        "#Program penjumlahan bilangan bulat (integer) x dan y (cara kedua)\n",
        "x = int(input('Masukkan nilai x : '))\n",
        "y = int(input('Masukkan nilai y : '))\n",
        "print(f'{x} + {y} = {x+y}')"
      ],
      "execution_count": null,
      "outputs": [
        {
          "output_type": "stream",
          "text": [
            "Masukkan nilai x : 2\n",
            "Masukkan nilai y : 3\n",
            "2 + 3 = 5\n"
          ],
          "name": "stdout"
        }
      ]
    },
    {
      "cell_type": "markdown",
      "metadata": {
        "id": "oLRwAjYomEo6"
      },
      "source": [
        "### Tugas 1"
      ]
    },
    {
      "cell_type": "markdown",
      "metadata": {
        "id": "254h4axumNCU"
      },
      "source": [
        "Buatlah program untuk melakukan penghitungan luas bangun datar lalu tampilkan luas dari bangun datar tersebut dengan format \"Luas {nama_bangun_datar} = {nilai_luas}\". Minimal lima bangun datar! \n",
        "\n",
        "**Contoh output : \"Luas Segitiga = 10\"**"
      ]
    },
    {
      "cell_type": "code",
      "metadata": {
        "id": "tg5bhRIBj24c"
      },
      "source": [],
      "execution_count": null,
      "outputs": []
    }
  ]
}
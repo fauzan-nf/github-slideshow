{
  "nbformat": 4,
  "nbformat_minor": 0,
  "metadata": {
    "colab": {
      "name": "Project 1: Membuat Model NLP  dengan  TensorFlow",
      "provenance": [],
      "collapsed_sections": [],
      "mount_file_id": "1Ui-0042msqqTqTYJ5XHGQgmSPtUZAJzW",
      "authorship_tag": "ABX9TyNWCH+e6bwqHuAr0UtNZQ7y",
      "include_colab_link": true
    },
    "kernelspec": {
      "name": "python3",
      "display_name": "Python 3"
    },
    "language_info": {
      "name": "python"
    }
  },
  "cells": [
    {
      "cell_type": "markdown",
      "metadata": {
        "id": "view-in-github",
        "colab_type": "text"
      },
      "source": [
        "<a href=\"https://colab.research.google.com/github/fauzan-nf/github-slideshow/blob/master/Project_1_Membuat_Model_NLP_dengan_TensorFlow.ipynb\" target=\"_parent\"><img src=\"https://colab.research.google.com/assets/colab-badge.svg\" alt=\"Open In Colab\"/></a>"
      ]
    },
    {
      "cell_type": "markdown",
      "metadata": {
        "id": "81KJk3wzdf1z"
      },
      "source": [
        "# Data Diri\n",
        "\n",
        "Nama : Nurfaudzan \n",
        "\n",
        "Email : faudzan.46@gmail.com"
      ]
    },
    {
      "cell_type": "markdown",
      "metadata": {
        "id": "7mUWeJ6vCyoz"
      },
      "source": [
        "# Load Dataset\n",
        "\n",
        "Mengambil dataset"
      ]
    },
    {
      "cell_type": "code",
      "metadata": {
        "id": "-f-vwcCEORR5"
      },
      "source": [
        "import pandas as pd\n",
        "import tensorflow as tf\n",
        "from tensorflow import keras"
      ],
      "execution_count": 1,
      "outputs": []
    },
    {
      "cell_type": "code",
      "metadata": {
        "colab": {
          "base_uri": "https://localhost:8080/"
        },
        "id": "X6awlnTihxjk",
        "outputId": "629f571d-77d8-45cf-d818-d136c8a801b6"
      },
      "source": [
        "train_text = pd.read_csv('/content/drive/MyDrive/Dataset/train.txt',\n",
        "                         header=None,\n",
        "                         sep=';',\n",
        "                         names=['Input','Sentiment',])\n",
        "print('Train=', len(train_text))"
      ],
      "execution_count": 2,
      "outputs": [
        {
          "output_type": "stream",
          "text": [
            "Train= 16000\n"
          ],
          "name": "stdout"
        }
      ]
    },
    {
      "cell_type": "code",
      "metadata": {
        "colab": {
          "base_uri": "https://localhost:8080/",
          "height": 419
        },
        "id": "7pbZF3ocLJUA",
        "outputId": "9a759542-3fe4-40ac-dbdc-24f5facd7726"
      },
      "source": [
        "category = pd.get_dummies(train_text.Sentiment)\n",
        "train_baru = pd.concat([train_text, category], axis=1)\n",
        "train_baru = train_baru.drop(columns='Sentiment')\n",
        "train_baru"
      ],
      "execution_count": 3,
      "outputs": [
        {
          "output_type": "execute_result",
          "data": {
            "text/html": [
              "<div>\n",
              "<style scoped>\n",
              "    .dataframe tbody tr th:only-of-type {\n",
              "        vertical-align: middle;\n",
              "    }\n",
              "\n",
              "    .dataframe tbody tr th {\n",
              "        vertical-align: top;\n",
              "    }\n",
              "\n",
              "    .dataframe thead th {\n",
              "        text-align: right;\n",
              "    }\n",
              "</style>\n",
              "<table border=\"1\" class=\"dataframe\">\n",
              "  <thead>\n",
              "    <tr style=\"text-align: right;\">\n",
              "      <th></th>\n",
              "      <th>Input</th>\n",
              "      <th>anger</th>\n",
              "      <th>fear</th>\n",
              "      <th>joy</th>\n",
              "      <th>love</th>\n",
              "      <th>sadness</th>\n",
              "      <th>surprise</th>\n",
              "    </tr>\n",
              "  </thead>\n",
              "  <tbody>\n",
              "    <tr>\n",
              "      <th>0</th>\n",
              "      <td>i didnt feel humiliated</td>\n",
              "      <td>0</td>\n",
              "      <td>0</td>\n",
              "      <td>0</td>\n",
              "      <td>0</td>\n",
              "      <td>1</td>\n",
              "      <td>0</td>\n",
              "    </tr>\n",
              "    <tr>\n",
              "      <th>1</th>\n",
              "      <td>i can go from feeling so hopeless to so damned...</td>\n",
              "      <td>0</td>\n",
              "      <td>0</td>\n",
              "      <td>0</td>\n",
              "      <td>0</td>\n",
              "      <td>1</td>\n",
              "      <td>0</td>\n",
              "    </tr>\n",
              "    <tr>\n",
              "      <th>2</th>\n",
              "      <td>im grabbing a minute to post i feel greedy wrong</td>\n",
              "      <td>1</td>\n",
              "      <td>0</td>\n",
              "      <td>0</td>\n",
              "      <td>0</td>\n",
              "      <td>0</td>\n",
              "      <td>0</td>\n",
              "    </tr>\n",
              "    <tr>\n",
              "      <th>3</th>\n",
              "      <td>i am ever feeling nostalgic about the fireplac...</td>\n",
              "      <td>0</td>\n",
              "      <td>0</td>\n",
              "      <td>0</td>\n",
              "      <td>1</td>\n",
              "      <td>0</td>\n",
              "      <td>0</td>\n",
              "    </tr>\n",
              "    <tr>\n",
              "      <th>4</th>\n",
              "      <td>i am feeling grouchy</td>\n",
              "      <td>1</td>\n",
              "      <td>0</td>\n",
              "      <td>0</td>\n",
              "      <td>0</td>\n",
              "      <td>0</td>\n",
              "      <td>0</td>\n",
              "    </tr>\n",
              "    <tr>\n",
              "      <th>...</th>\n",
              "      <td>...</td>\n",
              "      <td>...</td>\n",
              "      <td>...</td>\n",
              "      <td>...</td>\n",
              "      <td>...</td>\n",
              "      <td>...</td>\n",
              "      <td>...</td>\n",
              "    </tr>\n",
              "    <tr>\n",
              "      <th>15995</th>\n",
              "      <td>i just had a very brief time in the beanbag an...</td>\n",
              "      <td>0</td>\n",
              "      <td>0</td>\n",
              "      <td>0</td>\n",
              "      <td>0</td>\n",
              "      <td>1</td>\n",
              "      <td>0</td>\n",
              "    </tr>\n",
              "    <tr>\n",
              "      <th>15996</th>\n",
              "      <td>i am now turning and i feel pathetic that i am...</td>\n",
              "      <td>0</td>\n",
              "      <td>0</td>\n",
              "      <td>0</td>\n",
              "      <td>0</td>\n",
              "      <td>1</td>\n",
              "      <td>0</td>\n",
              "    </tr>\n",
              "    <tr>\n",
              "      <th>15997</th>\n",
              "      <td>i feel strong and good overall</td>\n",
              "      <td>0</td>\n",
              "      <td>0</td>\n",
              "      <td>1</td>\n",
              "      <td>0</td>\n",
              "      <td>0</td>\n",
              "      <td>0</td>\n",
              "    </tr>\n",
              "    <tr>\n",
              "      <th>15998</th>\n",
              "      <td>i feel like this was such a rude comment and i...</td>\n",
              "      <td>1</td>\n",
              "      <td>0</td>\n",
              "      <td>0</td>\n",
              "      <td>0</td>\n",
              "      <td>0</td>\n",
              "      <td>0</td>\n",
              "    </tr>\n",
              "    <tr>\n",
              "      <th>15999</th>\n",
              "      <td>i know a lot but i feel so stupid because i ca...</td>\n",
              "      <td>0</td>\n",
              "      <td>0</td>\n",
              "      <td>0</td>\n",
              "      <td>0</td>\n",
              "      <td>1</td>\n",
              "      <td>0</td>\n",
              "    </tr>\n",
              "  </tbody>\n",
              "</table>\n",
              "<p>16000 rows × 7 columns</p>\n",
              "</div>"
            ],
            "text/plain": [
              "                                                   Input  ...  surprise\n",
              "0                                i didnt feel humiliated  ...         0\n",
              "1      i can go from feeling so hopeless to so damned...  ...         0\n",
              "2       im grabbing a minute to post i feel greedy wrong  ...         0\n",
              "3      i am ever feeling nostalgic about the fireplac...  ...         0\n",
              "4                                   i am feeling grouchy  ...         0\n",
              "...                                                  ...  ...       ...\n",
              "15995  i just had a very brief time in the beanbag an...  ...         0\n",
              "15996  i am now turning and i feel pathetic that i am...  ...         0\n",
              "15997                     i feel strong and good overall  ...         0\n",
              "15998  i feel like this was such a rude comment and i...  ...         0\n",
              "15999  i know a lot but i feel so stupid because i ca...  ...         0\n",
              "\n",
              "[16000 rows x 7 columns]"
            ]
          },
          "metadata": {
            "tags": []
          },
          "execution_count": 3
        }
      ]
    },
    {
      "cell_type": "code",
      "metadata": {
        "colab": {
          "base_uri": "https://localhost:8080/"
        },
        "id": "VZLz82Gg8rQo",
        "outputId": "9c874020-7878-4220-92a8-6a9609e909ed"
      },
      "source": [
        "train_text.Sentiment.value_counts()"
      ],
      "execution_count": 4,
      "outputs": [
        {
          "output_type": "execute_result",
          "data": {
            "text/plain": [
              "joy         5362\n",
              "sadness     4666\n",
              "anger       2159\n",
              "fear        1937\n",
              "love        1304\n",
              "surprise     572\n",
              "Name: Sentiment, dtype: int64"
            ]
          },
          "metadata": {
            "tags": []
          },
          "execution_count": 4
        }
      ]
    },
    {
      "cell_type": "code",
      "metadata": {
        "id": "O_fFgd5w-Jme"
      },
      "source": [
        "sinopsis = train_baru['Input'].values\n",
        "label = train_baru[['anger',\t'fear',\t'joy',\t'love',\t'sadness',\t'surprise']].values"
      ],
      "execution_count": 5,
      "outputs": []
    },
    {
      "cell_type": "markdown",
      "metadata": {
        "id": "ELuK98VdgUxw"
      },
      "source": [
        "Membagi dataset"
      ]
    },
    {
      "cell_type": "code",
      "metadata": {
        "id": "1S_QzY2uarDD"
      },
      "source": [
        "from sklearn.model_selection import train_test_split\n",
        "sinopsis_latih, sinopsis_test, label_latih, label_test = train_test_split(sinopsis, label, test_size=0.2)"
      ],
      "execution_count": 6,
      "outputs": []
    },
    {
      "cell_type": "markdown",
      "metadata": {
        "id": "_qN7IckXgZ-S"
      },
      "source": [
        "# Tokenization"
      ]
    },
    {
      "cell_type": "code",
      "metadata": {
        "id": "wvjcwzNu_yNg"
      },
      "source": [
        "from tensorflow.keras.preprocessing.text import Tokenizer\n",
        "from tensorflow.keras.preprocessing.sequence import pad_sequences\n",
        " \n",
        "tokenizer = Tokenizer(num_words=5000, oov_token='x')\n",
        "tokenizer.fit_on_texts(sinopsis_latih) \n",
        "tokenizer.fit_on_texts(sinopsis_test)\n",
        " \n",
        "sekuens_latih = tokenizer.texts_to_sequences(sinopsis_latih)\n",
        "sekuens_test = tokenizer.texts_to_sequences(sinopsis_test)\n",
        " \n",
        "padded_latih = pad_sequences(sekuens_latih) \n",
        "padded_test = pad_sequences(sekuens_test)"
      ],
      "execution_count": 7,
      "outputs": []
    },
    {
      "cell_type": "code",
      "metadata": {
        "id": "ELcXM60aCGcW"
      },
      "source": [
        "import tensorflow as tf\n",
        "model = tf.keras.Sequential([\n",
        "    tf.keras.layers.Embedding(input_dim=5000, output_dim=16),\n",
        "    tf.keras.layers.LSTM(64),\n",
        "    tf.keras.layers.Dense(128, activation='relu'),\n",
        "    tf.keras.layers.Dense(64, activation='relu'),\n",
        "    tf.keras.layers.Dense(6, activation='softmax')\n",
        "])\n",
        "model.compile(loss='categorical_crossentropy',\n",
        "              optimizer='adam',\n",
        "              metrics=['accuracy'])"
      ],
      "execution_count": 8,
      "outputs": []
    },
    {
      "cell_type": "code",
      "metadata": {
        "id": "ujYMdnj2hQCs"
      },
      "source": [
        "class myCallback(tf.keras.callbacks.Callback):\n",
        "  def on_epoch_end(self, epoch, logs={}):\n",
        "    if(logs.get('val_accuracy')>0.9):\n",
        "      print(\"\\nAkurasi Validasi telah mencapai >90%!\")\n",
        "      self.model.stop_training = True\n",
        "callbacks = myCallback()"
      ],
      "execution_count": 9,
      "outputs": []
    },
    {
      "cell_type": "code",
      "metadata": {
        "colab": {
          "base_uri": "https://localhost:8080/"
        },
        "id": "n6NfdKJhCZSp",
        "outputId": "1f9f8c84-3e19-4e70-dd5c-183a0c87f002"
      },
      "source": [
        "num_epochs = 50\n",
        "history = model.fit(padded_latih, label_latih, epochs=num_epochs, \n",
        "                    validation_data=(padded_test, label_test),\n",
        "                    verbose=2,\n",
        "                    callbacks=[callbacks])"
      ],
      "execution_count": 10,
      "outputs": [
        {
          "output_type": "stream",
          "text": [
            "Epoch 1/50\n",
            "400/400 - 14s - loss: 1.4391 - accuracy: 0.3629 - val_loss: 1.1795 - val_accuracy: 0.3781\n",
            "Epoch 2/50\n",
            "400/400 - 12s - loss: 1.0608 - accuracy: 0.4973 - val_loss: 1.0042 - val_accuracy: 0.6247\n",
            "Epoch 3/50\n",
            "400/400 - 12s - loss: 0.6248 - accuracy: 0.7779 - val_loss: 0.5473 - val_accuracy: 0.8206\n",
            "Epoch 4/50\n",
            "400/400 - 12s - loss: 0.3649 - accuracy: 0.8801 - val_loss: 0.4009 - val_accuracy: 0.8672\n",
            "Epoch 5/50\n",
            "400/400 - 12s - loss: 0.2116 - accuracy: 0.9305 - val_loss: 0.3647 - val_accuracy: 0.8863\n",
            "Epoch 6/50\n",
            "400/400 - 12s - loss: 0.1574 - accuracy: 0.9449 - val_loss: 0.3662 - val_accuracy: 0.8850\n",
            "Epoch 7/50\n",
            "400/400 - 12s - loss: 0.1161 - accuracy: 0.9591 - val_loss: 0.3964 - val_accuracy: 0.8922\n",
            "Epoch 8/50\n",
            "400/400 - 12s - loss: 0.0916 - accuracy: 0.9660 - val_loss: 0.3485 - val_accuracy: 0.8969\n",
            "Epoch 9/50\n",
            "400/400 - 12s - loss: 0.0740 - accuracy: 0.9737 - val_loss: 0.3717 - val_accuracy: 0.8975\n",
            "Epoch 10/50\n",
            "400/400 - 12s - loss: 0.0644 - accuracy: 0.9761 - val_loss: 0.4085 - val_accuracy: 0.8981\n",
            "Epoch 11/50\n",
            "400/400 - 12s - loss: 0.0625 - accuracy: 0.9777 - val_loss: 0.3781 - val_accuracy: 0.9034\n",
            "\n",
            "Akurasi Validasi telah mencapai >90%!\n"
          ],
          "name": "stdout"
        }
      ]
    },
    {
      "cell_type": "code",
      "metadata": {
        "id": "BnZuEHnldZl6"
      },
      "source": [
        "import matplotlib.pyplot as plt"
      ],
      "execution_count": 11,
      "outputs": []
    },
    {
      "cell_type": "code",
      "metadata": {
        "colab": {
          "base_uri": "https://localhost:8080/",
          "height": 295
        },
        "id": "dvoDvoQWdfMS",
        "outputId": "60120a8a-af75-47fc-9a42-62f90cf59051"
      },
      "source": [
        "plt.plot(history.history['loss'])\n",
        "plt.title('Model loss')\n",
        "plt.ylabel('Loss')\n",
        "plt.xlabel('Epoch')\n",
        "plt.legend(['Train'], loc='upper right')\n",
        "plt.show()"
      ],
      "execution_count": 12,
      "outputs": [
        {
          "output_type": "display_data",
          "data": {
            "image/png": "[encoded data removed]",
            "text/plain": [
              "<Figure size 432x288 with 1 Axes>"
            ]
          },
          "metadata": {
            "tags": [],
            "needs_background": "light"
          }
        }
      ]
    },
    {
      "cell_type": "code",
      "metadata": {
        "colab": {
          "base_uri": "https://localhost:8080/",
          "height": 295
        },
        "id": "zeNT5LXufd5-",
        "outputId": "7af3eb6d-4d21-4956-a449-c2ddf9c0e795"
      },
      "source": [
        "plt.plot(history.history['accuracy'])\n",
        "plt.title('Model accuracy')\n",
        "plt.ylabel('Accuracy')\n",
        "plt.xlabel('Epoch')\n",
        "plt.legend(['Train'], loc='lower right')\n",
        "plt.show()"
      ],
      "execution_count": 13,
      "outputs": [
        {
          "output_type": "display_data",
          "data": {
            "image/png": "[encoded data removed]",
            "text/plain": [
              "<Figure size 432x288 with 1 Axes>"
            ]
          },
          "metadata": {
            "tags": [],
            "needs_background": "light"
          }
        }
      ]
    },
    {
      "cell_type": "code",
      "metadata": {
        "colab": {
          "base_uri": "https://localhost:8080/",
          "height": 295
        },
        "id": "jhkZw5_wpn5F",
        "outputId": "769a5e7a-62ac-468e-c538-8904595e6a2a"
      },
      "source": [
        "plt.plot(history.history['val_loss'])\n",
        "plt.title('Model val_loss')\n",
        "plt.ylabel('Loss')\n",
        "plt.xlabel('Epoch')\n",
        "plt.legend(['Validation'], loc='upper right')\n",
        "plt.show()"
      ],
      "execution_count": 14,
      "outputs": [
        {
          "output_type": "display_data",
          "data": {
            "image/png": "[encoded data removed]",
            "text/plain": [
              "<Figure size 432x288 with 1 Axes>"
            ]
          },
          "metadata": {
            "tags": [],
            "needs_background": "light"
          }
        }
      ]
    },
    {
      "cell_type": "code",
      "metadata": {
        "colab": {
          "base_uri": "https://localhost:8080/",
          "height": 295
        },
        "id": "8jCU5oSAphlJ",
        "outputId": "5bea44d2-7163-4969-e679-6ce521c85867"
      },
      "source": [
        "plt.plot(history.history['val_accuracy'])\n",
        "plt.title('Model val_accuracy')\n",
        "plt.ylabel('Accuracy')\n",
        "plt.xlabel('Epoch')\n",
        "plt.legend(['Validation'], loc='lower right')\n",
        "plt.show()"
      ],
      "execution_count": 15,
      "outputs": [
        {
          "output_type": "display_data",
          "data": {
            "image/png": "[encoded data removed]",
            "text/plain": [
              "<Figure size 432x288 with 1 Axes>"
            ]
          },
          "metadata": {
            "tags": [],
            "needs_background": "light"
          }
        }
      ]
    }
  ]
}